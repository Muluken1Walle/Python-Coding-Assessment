{
  "cells": [
    {
      "cell_type": "markdown",
      "metadata": {
        "id": "view-in-github",
        "colab_type": "text"
      },
      "source": [
        "<a href=\"https://colab.research.google.com/github/Muluken1Walle/Python-Coding-Assessment/blob/main/Job_SupportProject.ipynb\" target=\"_parent\"><img src=\"https://colab.research.google.com/assets/colab-badge.svg\" alt=\"Open In Colab\"/></a>"
      ]
    },
    {
      "cell_type": "code",
      "execution_count": 2,
      "metadata": {
        "id": "Iu4zqtoGwoNo"
      },
      "outputs": [],
      "source": [
        "# Importing Librarys\n",
        "import numpy as np\n"
      ]
    },
    {
      "cell_type": "code",
      "execution_count": 3,
      "metadata": {
        "colab": {
          "base_uri": "https://localhost:8080/"
        },
        "id": "-F2czHK3xLTn",
        "outputId": "e2b92d46-9f93-4786-d136-9e79eca75d5f"
      },
      "outputs": [
        {
          "output_type": "stream",
          "name": "stdout",
          "text": [
            "5\n",
            "The Number is odd\n"
          ]
        }
      ],
      "source": [
        "#1.Program to check whether a number is odd or even\n",
        "n=int(input())\n",
        "if n%2==0:\n",
        "  print('The number is Even')\n",
        "else:\n",
        "  print('The Number is odd')"
      ]
    },
    {
      "cell_type": "code",
      "execution_count": 4,
      "metadata": {
        "colab": {
          "base_uri": "https://localhost:8080/"
        },
        "id": "s4oPavzvBCkp",
        "outputId": "af38a197-e0a8-4a4e-e1ef-776de1c1fdbb"
      },
      "outputs": [
        {
          "output_type": "stream",
          "name": "stdout",
          "text": [
            "6\n",
            "non_leap year\n"
          ]
        }
      ],
      "source": [
        "#2.Program for leap year\n",
        "n=int(input())\n",
        "if n%4==0 and n%100 !=0 and n%400 !=0:\n",
        "  print('leap year')\n",
        "else:\n",
        "  print('non_leap year')"
      ]
    },
    {
      "cell_type": "code",
      "execution_count": 5,
      "metadata": {
        "colab": {
          "base_uri": "https://localhost:8080/"
        },
        "id": "50tpXn5OCI9E",
        "outputId": "0643cc5e-89e6-44af-9291-2fdced420d35"
      },
      "outputs": [
        {
          "output_type": "stream",
          "name": "stdout",
          "text": [
            "2\n",
            "Prime Number\n"
          ]
        }
      ],
      "source": [
        "#3.Program to check whether a number is prime or not\n",
        "n=int(input())\n",
        "c=0\n",
        "for x in range(1,n):\n",
        "  if n % x==0:\n",
        "    c+=1\n",
        "    if c>2:\n",
        "      print('no Prime number')\n",
        "    else:\n",
        "        print('Prime Number')\n",
        "\n"
      ]
    },
    {
      "cell_type": "code",
      "execution_count": 6,
      "metadata": {
        "colab": {
          "base_uri": "https://localhost:8080/"
        },
        "id": "fjxBGTeMD0ig",
        "outputId": "39fcafec-4a0e-451f-98eb-8a476402d171"
      },
      "outputs": [
        {
          "output_type": "stream",
          "name": "stdout",
          "text": [
            "5\n",
            "Palindrome Number\n"
          ]
        }
      ],
      "source": [
        "#4. Program to check whether a given number is palindrome or not\n",
        "n=input()\n",
        "rev=n[::-1]\n",
        "if rev==n:\n",
        "  print('Palindrome Number')\n",
        "else:\n",
        "  print('not Palindrome Number')\n"
      ]
    },
    {
      "cell_type": "code",
      "execution_count": 7,
      "metadata": {
        "colab": {
          "base_uri": "https://localhost:8080/"
        },
        "id": "tWrlkd_zFbUv",
        "outputId": "56f60e07-3bb4-4510-9209-38e745018667"
      },
      "outputs": [
        {
          "output_type": "stream",
          "name": "stdout",
          "text": [
            "enter The number8\n",
            "amstrong\n"
          ]
        }
      ],
      "source": [
        "#5. Check whether a number is ArmStrong Number\n",
        "a=int(input('enter The number'))\n",
        "sum=0\n",
        "test=a\n",
        "q=len(str(a))\n",
        "if test <=0:\n",
        "  print('The Number is greater than 0')\n",
        "else:\n",
        "  while test > 0:\n",
        "    x = test % 10\n",
        "    sum += x ** q\n",
        "    test//= 10\n",
        "  if sum == a:\n",
        "    print('amstrong')\n",
        "  else:\n",
        "    print('not amstrong')\n",
        "    "
      ]
    },
    {
      "cell_type": "code",
      "execution_count": 8,
      "metadata": {
        "colab": {
          "base_uri": "https://localhost:8080/"
        },
        "id": "xmLyVuv5PX7_",
        "outputId": "b0291aae-bf15-4c95-be0c-ffcf0e1eaa5a"
      },
      "outputs": [
        {
          "output_type": "stream",
          "name": "stdout",
          "text": [
            "5\n",
            "The number is not perfect palindrome\n"
          ]
        }
      ],
      "source": [
        "#6. Check whether a number is perfect palindrome number. \n",
        "#if a palindrome number is also a square of a palindrome number then it is called a perfect palindrome number.\n",
        "\n",
        "import math\n",
        "def palindrome(num):\n",
        "  rev=num[::-1]\n",
        "  if rev == num:\n",
        "    return True\n",
        "  else:\n",
        "    return False\n",
        "\n",
        "def perfecr(num):\n",
        "  sq = int(math.sqrt(num))\n",
        "  pwr = math.pow(sq,2)\n",
        "  if pwr == num:\n",
        "    return True\n",
        "  else:\n",
        "    return False\n",
        "\n",
        "num = input()\n",
        "if palindrome(num) == perfecr(int(num)):\n",
        "  print(\"The number is perfect palindrome number\")\n",
        "else:\n",
        "  print(\"The number is not perfect palindrome\")"
      ]
    },
    {
      "cell_type": "code",
      "execution_count": 9,
      "metadata": {
        "id": "6EeB2s2tPXdK"
      },
      "outputs": [],
      "source": [
        "                                          #Patterns"
      ]
    },
    {
      "cell_type": "code",
      "execution_count": 10,
      "metadata": {
        "id": "B4GMc1_hQOpw"
      },
      "outputs": [],
      "source": [
        "# Given an array of ints, return True if the array contains a 2 next to a 2 somewhere.\n",
        "#Example: has22([1, 2, 2]) → True has22([1, 2, 1, 2]) → False has22([2, 1, 2]) → False\n",
        "#1\n",
        "def x(nums):\n",
        "  for i in range(len(nums)-1):\n",
        "    if nums[i]==2 and nums[i+1]==2:\n",
        "      return True\n",
        "      return False\n",
        "      x([2,1,2])"
      ]
    },
    {
      "cell_type": "code",
      "execution_count": 35,
      "metadata": {
        "id": "WdaJedzlWcXf"
      },
      "outputs": [],
      "source": [
        "# #2. Return the sum of the numbers in the array, except ignore sections of numbers \n",
        "# starting with a 6 and extending to the next 7 (every 6 will be followed by at least one 7). Return 0 for no numbers.\n",
        "# Example: sum67([1, 2, 2]) → 5 sum67([1, 2, 2, 6, 99, 99, 7]) → 5 sum67([1, 1, 6, 7, 2]) → 4\n",
        "def sum67(nums):\n",
        "  flag = False\n",
        "  temp = []\n",
        "  for i in nums:\n",
        "      if(i == 6):\n",
        "        flag = True\n",
        "        continue\n",
        "      if(i == 7 and flag is True):\n",
        "        flag = False\n",
        "        continue\n",
        "      if(flag is False):\n",
        "       temp.append(i)\n",
        "      return sum(temp)\n",
        "  sum67([1, 2, 2, 6, 99, 99, 7])"
      ]
    },
    {
      "cell_type": "code",
      "execution_count": 34,
      "metadata": {
        "colab": {
          "base_uri": "https://localhost:8080/"
        },
        "id": "IXapnVyTXGRZ",
        "outputId": "9e0f1eb9-c13f-4044-dedc-b2d8d2df4dbd"
      },
      "outputs": [
        {
          "output_type": "execute_result",
          "data": {
            "text/plain": [
              "4"
            ]
          },
          "metadata": {},
          "execution_count": 34
        }
      ],
      "source": [
        "# 3. Return the number of even ints in the given array. Note: the % \"mod\" operator computes the remainder, e.g. 5 % 2 is 1.\n",
        "# Example: count_evens([2, 1, 2, 3, 4]) → 3 count_evens([2, 2, 0]) → 3 count_evens([1, 3, 5]) → 0\n",
        "def count_evens(nums):\n",
        "  even_nums = []\n",
        "  for i in nums:\n",
        "    if i % 2 == 0:\n",
        "      even_nums.append(i)\n",
        "  return len(even_nums) \n",
        "count_evens([2,3,1,4,24,2])"
      ]
    },
    {
      "cell_type": "code",
      "execution_count": 36,
      "metadata": {
        "colab": {
          "base_uri": "https://localhost:8080/",
          "height": 35
        },
        "id": "S8L-3v-gXYQB",
        "outputId": "ed2425cd-0f71-4af0-f431-0441fadae9b9"
      },
      "outputs": [
        {
          "output_type": "execute_result",
          "data": {
            "text/plain": [
              "'TThhee'"
            ],
            "application/vnd.google.colaboratory.intrinsic+json": {
              "type": "string"
            }
          },
          "metadata": {},
          "execution_count": 36
        }
      ],
      "source": [
        "#4. Given a string, return a string where for every char in the original, there are two chars.\n",
        "#Example: double_char('The') → 'TThhee' double_char('AAbb') → 'AAAAbbbb' double_char('Hi-There') → 'HHii--TThheerree'\n",
        "def double_char(str):\n",
        "  \n",
        "  result = \"\"\n",
        "  for char in str:\n",
        "    result = result + char*2\n",
        "    \n",
        "  return result \n",
        "double_char('The')"
      ]
    },
    {
      "cell_type": "code",
      "execution_count": 39,
      "metadata": {
        "colab": {
          "base_uri": "https://localhost:8080/"
        },
        "id": "JSWJw1wUXkAk",
        "outputId": "280ce4a3-de8a-45ca-dc6d-e2d123a580cb"
      },
      "outputs": [
        {
          "output_type": "execute_result",
          "data": {
            "text/plain": [
              "True"
            ]
          },
          "metadata": {},
          "execution_count": 39
        }
      ],
      "source": [
        "# 5. Given an array of ints, return True if the sequence of numbers 1, 2, 3 appears in the array somewhere.\n",
        "# Example: array123([1, 1, 2, 3, 1]) → True array123([1, 1, 2, 4, 1]) → False array123([1, 1, 2, 1, 2, 3]) → True\n",
        "def x(nums):\n",
        "  i = 0\n",
        "  flag = False\n",
        "  while i <= (len(nums) - 2):\n",
        "    if nums[i] == 1 and nums[i+1] == 2 and nums[i+2] == 3:\n",
        "      flag = True\n",
        "    i += 1\n",
        "  return flag\n",
        "\n",
        "x([1, 1, 2, 3, 1])"
      ]
    },
    {
      "cell_type": "code",
      "execution_count": 40,
      "metadata": {
        "colab": {
          "base_uri": "https://localhost:8080/",
          "height": 35
        },
        "id": "USRPHF5IX0BA",
        "outputId": "ca96b9f3-ab95-4f26-ef83-ec83b899184e"
      },
      "outputs": [
        {
          "output_type": "execute_result",
          "data": {
            "text/plain": [
              "'HeyHeeyyyHey'"
            ],
            "application/vnd.google.colaboratory.intrinsic+json": {
              "type": "string"
            }
          },
          "metadata": {},
          "execution_count": 40
        }
      ],
      "source": [
        "# 6. Given 2 strings, a and b, return a string of the form short+long+short, with the shorter string on the outside and\n",
        "#  the longer string on the inside. The strings will not be the same length, but they may be empty (length 0).\n",
        "# Example: combo_string('Hello', 'hi') → 'hiHellohi' combo_string('hi', 'Hello') → 'hiHellohi' combo_string('aaa', 'b') → 'baaab'\n",
        "def combo_string(a, b):\n",
        "  if len(a) < len(b):\n",
        "    return a + b + a\n",
        "  return b + a + b \n",
        "combo_string('Hey', 'Heeyyy')\n"
      ]
    },
    {
      "cell_type": "code",
      "execution_count": 41,
      "metadata": {
        "colab": {
          "base_uri": "https://localhost:8080/",
          "height": 35
        },
        "id": "O30mhphuYK8E",
        "outputId": "a57bc19d-4cf6-41eb-e04d-34544b4a4e15"
      },
      "outputs": [
        {
          "output_type": "execute_result",
          "data": {
            "text/plain": [
              "'Hey'"
            ],
            "application/vnd.google.colaboratory.intrinsic+json": {
              "type": "string"
            }
          },
          "metadata": {},
          "execution_count": 41
        }
      ],
      "source": [
        "# 7. Given a string of even length, return the first half. So the string \"WooHoo\" yields \"Woo\".\n",
        "# Example: first_half('WooHoo') → 'Woo' first_half('HelloThere') → 'Hello' first_half('abcdef') → 'abc'\n",
        "def first_half(str):\n",
        "  txt = len(str) // 2\n",
        "  return str[:txt]\n",
        "first_half('Heyyyy')"
      ]
    },
    {
      "cell_type": "code",
      "execution_count": 42,
      "metadata": {
        "colab": {
          "base_uri": "https://localhost:8080/",
          "height": 35
        },
        "id": "c2hCAdnqYdj1",
        "outputId": "f76db6d1-204e-4e09-e686-5808882be754"
      },
      "outputs": [
        {
          "output_type": "execute_result",
          "data": {
            "text/plain": [
              "'eyello'"
            ],
            "application/vnd.google.colaboratory.intrinsic+json": {
              "type": "string"
            }
          },
          "metadata": {},
          "execution_count": 42
        }
      ],
      "source": [
        "#8. Given 2 strings, return their concatenation, except omit the first char of each. The strings will be at least length '1.'\n",
        "def non_start(a, b):\n",
        "  return a[1:] + b[1:]\n",
        "non_start('Hey', 'Hello')"
      ]
    },
    {
      "cell_type": "code",
      "execution_count": 43,
      "metadata": {
        "colab": {
          "base_uri": "https://localhost:8080/"
        },
        "id": "wwkpeNNbYwR2",
        "outputId": "3f2942a4-0c21-4040-889e-07e35dce0d05"
      },
      "outputs": [
        {
          "output_type": "stream",
          "name": "stdout",
          "text": [
            "Enter number of elements: 5\n",
            "8\n",
            "9\n",
            "1\n",
            "5\n",
            "8\n",
            "Even numbers in the list:  2\n",
            "Odd numbers in the list:  3\n"
          ]
        }
      ],
      "source": [
        "#9. Given a list of numbers, write a Python program to count Even and Odd numbers in a List.\n",
        "#Example:\n",
        "\n",
        "#Input: list1 = [2, 7, 5, 64, 14] Output: Even = 3, odd = 2\n",
        "\n",
        "#Input: list2 = [12, 14, 95, 3] Output: Even = 2, odd = 2\n",
        "# Python program to count Even\n",
        "# and Odd numbers in a List\n",
        "  \n",
        "# list of numbers\n",
        "list1 = []\n",
        "n = int(input('Enter number of elements: '))\n",
        "for i in range(0, n):\n",
        "  ele = int(input())\n",
        "  list1.append(ele)\n",
        "even_count, odd_count = 0, 0\n",
        "  \n",
        "# iterating each number in list\n",
        "for num in list1:\n",
        "  # checking condition\n",
        "  if num % 2 == 0:\n",
        "      even_count += 1\n",
        "  else:\n",
        "      odd_count += 1\n",
        "          \n",
        "print(\"Even numbers in the list: \", even_count)\n",
        "print(\"Odd numbers in the list: \", odd_count)\n",
        "    \n",
        "\n"
      ]
    },
    {
      "cell_type": "code",
      "execution_count": 44,
      "metadata": {
        "colab": {
          "base_uri": "https://localhost:8080/"
        },
        "id": "yQADi85-ZhHi",
        "outputId": "063fa384-7e6b-447f-a388-5b44a943e1d6"
      },
      "outputs": [
        {
          "output_type": "stream",
          "name": "stdout",
          "text": [
            "\n",
            "1 \n",
            "2 2 \n",
            "3 3 3 \n",
            "4 4 4 4 \n",
            "5 5 5 5 5 \n"
          ]
        }
      ],
      "source": [
        "#10. Write a python program to print the following pattern -> 1 2 2 3 3 3 4 4 4 4 5 5 5 5 5\n",
        "for num in range(6):\n",
        "  for i in range(num):\n",
        "    print(num, end=\" \")\n",
        "  print(\"\")"
      ]
    }
  ],
  "metadata": {
    "colab": {
      "name": "Job_SupportProject.ipynb",
      "provenance": [],
      "authorship_tag": "ABX9TyN44JoEwXNjzH1AuDYIcMc0",
      "include_colab_link": true
    },
    "kernelspec": {
      "display_name": "Python 3",
      "name": "python3"
    },
    "language_info": {
      "name": "python"
    }
  },
  "nbformat": 4,
  "nbformat_minor": 0
}